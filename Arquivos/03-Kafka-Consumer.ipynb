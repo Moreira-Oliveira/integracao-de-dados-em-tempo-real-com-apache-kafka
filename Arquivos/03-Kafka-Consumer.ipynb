{
 "cells": [
  {
   "cell_type": "markdown",
   "id": "cf6a4e39",
   "metadata": {},
   "source": [
    "<!-- Projeto Desenvolvido na Data Science Academy - www.datascienceacademy.com.br -->\n",
    "# <font color='blue'>Data Science Academy</font>\n",
    "## <font color='blue'>PySpark e Apache Kafka Para Processamento de Dados em Batch e Streaming</font>\n",
    "## <font color='blue'>Projeto 6</font>\n",
    "### <font color='blue'>Monitoramento de Criptomoedas em Tempo Real com Kafka, MongoDB e Streamlit</font>\n",
    "### <font color='blue'>Criação do Consumer Kafka</font>"
   ]
  },
  {
   "cell_type": "code",
   "execution_count": null,
   "id": "e2de5500-389d-462e-b63d-3f124b1de589",
   "metadata": {},
   "outputs": [],
   "source": [
    "!pip install -q pymongo==4.10.1"
   ]
  },
  {
   "cell_type": "code",
   "execution_count": null,
   "id": "708c56c9-ebaa-44c7-ab90-3a2a9ba4c70a",
   "metadata": {},
   "outputs": [],
   "source": [
    "# Imports\n",
    "import json\n",
    "import time \n",
    "from kafka import KafkaConsumer\n",
    "from json import dumps,loads\n",
    "from configparser import RawConfigParser\n",
    "from pymongo import MongoClient"
   ]
  },
  {
   "cell_type": "code",
   "execution_count": null,
   "id": "916afd35-bad6-464c-a2e7-af0a8eb0a84b",
   "metadata": {},
   "outputs": [],
   "source": [
    "# Carrega o arquivo de configuração\n",
    "config_local = RawConfigParser()\n",
    "config_local.read(\"dsa_config.conf\")"
   ]
  },
  {
   "cell_type": "code",
   "execution_count": null,
   "id": "aa4854ce-09b3-4e20-8fc8-43aea91dc0b2",
   "metadata": {},
   "outputs": [],
   "source": [
    "# Definimos as configurações\n",
    "server = config_local['Host']['ip']\n",
    "port = config_local['Host']['port']"
   ]
  },
  {
   "cell_type": "code",
   "execution_count": null,
   "id": "24e7a945",
   "metadata": {},
   "outputs": [],
   "source": [
    "# Cria o consumer\n",
    "dsa_consumer = KafkaConsumer('dsa-p6-crypto-topic',\n",
    "                             bootstrap_servers = [f\"{server}:{port}\"],\n",
    "                             value_deserializer = lambda x:loads(x.decode('utf-8')))"
   ]
  },
  {
   "cell_type": "code",
   "execution_count": null,
   "id": "56c54133-c5df-4ad5-a3a8-ff52a63fa2bc",
   "metadata": {},
   "outputs": [],
   "source": [
    "# Cria o cliente para o MongoDB\n",
    "client = MongoClient(config_local['MongoDB']['url'])"
   ]
  },
  {
   "cell_type": "code",
   "execution_count": null,
   "id": "a56c91cc",
   "metadata": {},
   "outputs": [],
   "source": [
    "# Usa o cliente para conectar ao banco de dados do MongoDB\n",
    "db = client[config_local['MongoDB']['database']]"
   ]
  },
  {
   "cell_type": "code",
   "execution_count": null,
   "id": "f463a739",
   "metadata": {},
   "outputs": [],
   "source": [
    "# Acessa a coleção (que é como uma tabela em um banco de dados relacional)\n",
    "collection = db[config_local['MongoDB']['collection']]"
   ]
  },
  {
   "cell_type": "code",
   "execution_count": null,
   "id": "96bb0a77-3bd8-49f8-b7ef-f1061587f402",
   "metadata": {},
   "outputs": [],
   "source": [
    "# Loop para inserir cada mensagem extraído do tópico Kafka na coleção do MongoDB\n",
    "# Clique no botão Stop na barra superior quando quiser interromper o consumo do tópico Kafka\n",
    "for message in dsa_consumer:\n",
    "    \n",
    "    # Acessa o valor da mensagem como dicionário\n",
    "    record = message.value\n",
    "    \n",
    "    # Verifica se o campo 'data' existe e é uma lista\n",
    "    if 'data' in record and isinstance(record['data'], list):\n",
    "        \n",
    "        # Itera sobre cada item na lista e remove o campo 'vwap24Hr', aplicando um filtro aos dados\n",
    "        for item in record['data']:\n",
    "            \n",
    "            # Remove o campo, se existir\n",
    "            item.pop('vwap24Hr', None)  \n",
    "    \n",
    "    # Insere o registro filtrado no MongoDB\n",
    "    collection.insert_one(record)\n",
    "    \n",
    "    # Exibe o registro filtrado no console\n",
    "    print(record)"
   ]
  },
  {
   "cell_type": "markdown",
   "id": "98ca1d0b",
   "metadata": {},
   "source": [
    "# Fim"
   ]
  }
 ],
 "metadata": {
  "kernelspec": {
   "display_name": "Python 3 (ipykernel)",
   "language": "python",
   "name": "python3"
  },
  "language_info": {
   "codemirror_mode": {
    "name": "ipython",
    "version": 3
   },
   "file_extension": ".py",
   "mimetype": "text/x-python",
   "name": "python",
   "nbconvert_exporter": "python",
   "pygments_lexer": "ipython3",
   "version": "3.11.5"
  }
 },
 "nbformat": 4,
 "nbformat_minor": 5
}
